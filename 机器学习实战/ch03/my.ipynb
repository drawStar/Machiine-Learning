{
 "cells": [
  {
   "cell_type": "markdown",
   "metadata": {},
   "source": [
    "### ch03 决策树\n",
    "\n",
    "可以通过<b>熵</b>评测哪种数据划分方式比较好, 选择信息增益(划分数据集前后信息发生的变化)最高的特征就是best，选择按每个特征划分后的熵相比原熵的增加最多的，对数据集进行划分。\n",
    "\n",
    "通过递归的方式建立决策树，书中用的是嵌套的字典表示树。\n",
    "\n",
    "信息熵：\n",
    "\n",
    "$H = - \\sum{^n _{i=1} p(x)logp(x_i)}$ #n是分类的数目，p(x)选择该分类的概率\n",
    "\n",
    "注意在按某一种特征进行划分后要多乘概率（条件熵），详见代码\n",
    "\n",
    "reference：\n",
    "信息增益到底怎么理解呢？ - 半瓶水的回答 - 知乎\n",
    "https://www.zhihu.com/question/22104055/answer/272137878"
   ]
  },
  {
   "cell_type": "code",
   "execution_count": 2,
   "metadata": {},
   "outputs": [],
   "source": [
    "import math\n",
    "import operator\n",
    "\n",
    "\n",
    "def calchannonEnt(dataSet):\n",
    "    # 计算香农熵\n",
    "    # dataSet的形式为【feature，feature，label】\n",
    "    nunEntries = len(dataSet)\n",
    "    labelCounts = {}\n",
    "    for featureVec in dataSet:\n",
    "        currentLabel = featureVec[-1]\n",
    "        if currentLabel not in labelCounts.keys():\n",
    "            labelCounts[currentLabel] = 0\n",
    "        labelCounts[currentLabel] += 1\n",
    "    shannonEnt = 0.0\n",
    "    for key in labelCounts:\n",
    "        prob = float(labelCounts[key]) / nunEntries\n",
    "        shannonEnt -= prob * math.log(prob, 2)\n",
    "    return  shannonEnt\n",
    "\n",
    "def createDataSet():\n",
    "    \"\"\"\n",
    "    第一列的1表示的是不需要浮出水面就可以生存的，0则表示相反。 第二列同样是1表示有脚蹼，0表示的是没有。yes鱼类，no非鱼类\n",
    "    :return:\n",
    "    \"\"\"\n",
    "    dataSet = [[1, 1, 'yes'],\n",
    "               [1, 1, 'yes'],\n",
    "               [1, 0, 'no'],\n",
    "               [0, 1, 'no'],\n",
    "               [0, 1, 'no']]\n",
    "    labels = ['no surfacing', 'flippers']\n",
    "    return  dataSet, labels\n"
   ]
  },
  {
   "cell_type": "code",
   "execution_count": 3,
   "metadata": {},
   "outputs": [
    {
     "name": "stdout",
     "output_type": "stream",
     "text": [
      "[[1, 1, 'yes'], [1, 1, 'yes'], [1, 0, 'no'], [0, 1, 'no'], [0, 1, 'no']]\n"
     ]
    },
    {
     "data": {
      "text/plain": [
       "0.9709505944546686"
      ]
     },
     "execution_count": 3,
     "metadata": {},
     "output_type": "execute_result"
    }
   ],
   "source": [
    "myDat, labels = createDataSet()\n",
    "print(myDat)\n",
    "calchannonEnt(myDat)"
   ]
  },
  {
   "cell_type": "code",
   "execution_count": 4,
   "metadata": {},
   "outputs": [],
   "source": [
    "def splitDataSet(dataSet, axis ,value):\n",
    "    #根据第axis个特征是否等于value，划分数据集dataSet,\n",
    "    retDataSet = []\n",
    "    for featureVec in dataSet:\n",
    "        if featureVec[axis] == value:\n",
    "            reducedFeatVec = []\n",
    "            reducedFeatVec.extend(featureVec[axis+1:])\n",
    "            retDataSet.append(reducedFeatVec)\n",
    "    return retDataSet\n",
    "\n",
    "def bestFeatureToSplit(dataSet):\n",
    "    #选择信息增益最高的特征就是best,返回一个样本中的特征索引\n",
    "    #计算初始熵\n",
    "    baseEntropy = calchannonEnt(dataSet)\n",
    "    numFeatures = len(dataSet[0]) - 1\n",
    "    maxInfoGain = 0.0\n",
    "    bestFeatureidx = -1\n",
    "    for i in range(numFeatures):\n",
    "        #对每一个feature\n",
    "        featureValueList = [example[i] for example in dataSet]\n",
    "        uniqueValues = set(featureValueList) #set中的值互不相同\n",
    "        newEntropy = 0.0\n",
    "        for value in uniqueValues:\n",
    "            subDataSet = splitDataSet(dataSet,i,value)\n",
    "            prob = len(subDataSet) / float(len(dataSet))\n",
    "            newEntropy += prob * calchannonEnt(subDataSet)\n",
    "        infoGain = baseEntropy - newEntropy\n",
    "        # print(\"i=%d  ,infogain= %f\" %(i,newEntropy))\n",
    "        if (infoGain > maxInfoGain):\n",
    "            maxInfoGain = infoGain\n",
    "            bestFeatureidx = i\n",
    "    return bestFeatureidx\n"
   ]
  },
  {
   "cell_type": "code",
   "execution_count": 5,
   "metadata": {},
   "outputs": [
    {
     "name": "stdout",
     "output_type": "stream",
     "text": [
      "0\n"
     ]
    }
   ],
   "source": [
    "print(bestFeatureToSplit(myDat))\n"
   ]
  },
  {
   "cell_type": "markdown",
   "metadata": {},
   "source": [
    "使用嵌套字典来表示树，\n",
    "构造过程如下：\n",
    "\n",
    "```\n",
    "\n",
    "s={'no sur':{}}   \n",
    "s['no sur'][0]='no'\n",
    "\n",
    "\n",
    "```"
   ]
  },
  {
   "cell_type": "code",
   "execution_count": 7,
   "metadata": {},
   "outputs": [],
   "source": [
    "\n",
    "def majorCnt(classlist):\n",
    "    # 返回出现次数最多的key\n",
    "    classCount = {}\n",
    "    for vote in classlist:\n",
    "        if vote not in classCount.keys():\n",
    "            classCount[vote] = 0\n",
    "        classCount[vote] += 1\n",
    "    sortedclassCount = sorted(classCount.items(), key = lambda x:x[1], reverse = True)\n",
    "    return sortedclassCount[0][0]\n",
    "\n",
    "\n",
    "def createTree(dataSet, labels):\n",
    "    #label为特征，dataset【featurevalue，...，label】\n",
    "    classList = [example[-1] for example in dataSet]#所有样本的label\n",
    "    if classList.count(classList[0]) == len(classList):\n",
    "        #list.count(obj)统计obj出现的次数\n",
    "        return classList[0] # dataSet的类别完全相同，停止划分,返回该label\n",
    "    if len(dataSet[0]) == 1:\n",
    "        #遍历完所有特征，dataset中只剩【label】，\n",
    "        #但仍然不能将数据集划分成仅包含唯一类别分组 则返回出现次数最多的label\n",
    "        return majorCnt(classList)\n",
    "\n",
    "    bestFeatureidx = bestFeatureToSplit(dataSet)\n",
    "    bestFeatureLabel = labels[bestFeatureidx]\n",
    "\n",
    "    myTree = {bestFeatureLabel:{}} # 用字典的嵌套来表示树\n",
    "    del(labels[bestFeatureidx]) #del()删除, 已使用bestFeature，不再需要\n",
    "    featureValues = [example[bestFeatureidx] for example in dataSet]\n",
    "    # print(featureValues)\n",
    "    uniqueValues = set(featureValues)#确定好特征后，按照feature values进行分类\n",
    "    for value in uniqueValues:\n",
    "        subLabels = labels[:]\n",
    "        subDataSet = splitDataSet(dataSet, bestFeatureidx, value)\n",
    "        myTree[bestFeatureLabel][value] = createTree(subDataSet,subLabels)\n",
    "    return myTree\n"
   ]
  },
  {
   "cell_type": "code",
   "execution_count": 8,
   "metadata": {
    "scrolled": true
   },
   "outputs": [],
   "source": [
    "import treePlotter\n",
    "%matplotlib inline \n",
    "#jupyter中需要使用这个命令才能显示图片\n"
   ]
  },
  {
   "cell_type": "code",
   "execution_count": 9,
   "metadata": {},
   "outputs": [
    {
     "name": "stdout",
     "output_type": "stream",
     "text": [
      "{'no surfacing': {0: 'no', 1: {'flippers': {0: 'no', 1: 'yes'}}}}\n"
     ]
    },
    {
     "data": {
      "image/png": "[encoded data removed]",
      "text/plain": [
       "<Figure size 432x288 with 1 Axes>"
      ]
     },
     "metadata": {},
     "output_type": "display_data"
    }
   ],
   "source": [
    "import treePlotter\n",
    "\n",
    "myDat, labels = createDataSet()\n",
    "mytree = createTree(myDat, labels)\n",
    "print(mytree)\n",
    "# print(treePlotter.getNumLeafs(mytree))\n",
    "# print(treePlotter.getTreeDepth(mytree))\n",
    "treePlotter.createPlot(mytree)"
   ]
  },
  {
   "cell_type": "code",
   "execution_count": 10,
   "metadata": {},
   "outputs": [],
   "source": [
    "\n",
    "def classify(inputTree, featureLabel, testVector):\n",
    "    # 找到最终的叶子结点\n",
    "    firstStr = list(inputTree.keys())[0]\n",
    "    secondDict = inputTree[firstStr]\n",
    "    featureidx = featureLabel.index(firstStr) #index(obj),返回obj的索引值\n",
    "    for key in secondDict.keys():\n",
    "        if key == testVector[featureidx]:\n",
    "            if  type(secondDict[key]).__name__ == 'dict':\n",
    "                classLabel = classify(secondDict[testVector[featureidx]], featureLabel, testVector)\n",
    "            else:\n",
    "                classLabel = secondDict[testVector[featureidx]]\n",
    "    return classLabel\n"
   ]
  },
  {
   "cell_type": "code",
   "execution_count": 31,
   "metadata": {},
   "outputs": [
    {
     "name": "stdout",
     "output_type": "stream",
     "text": [
      "[[1, 1, 'yes'], [1, 1, 'yes'], [1, 0, 'no'], [0, 1, 'no'], [0, 1, 'no']]\n",
      "{'no surfacing': {0: 'no', 1: {'flippers': {0: 'no', 1: 'yes'}}}}\n"
     ]
    }
   ],
   "source": [
    "myDat, labels = createDataSet()\n",
    "print(myDat)\n",
    "mytree = createTree(myDat, labels)\n",
    "print(mytree)"
   ]
  },
  {
   "cell_type": "code",
   "execution_count": 16,
   "metadata": {},
   "outputs": [],
   "source": [
    "def storeTree(inputTree, filename):\n",
    "    # 存储决策树，方便调用\n",
    "    import pickle\n",
    "    fw = open(filename, 'wb')\n",
    "    pickle.dump(inputTree, fw)\n",
    "    fw.close()\n",
    "def grabTree(filename):\n",
    "    import pickle\n",
    "    fr = open(filename, 'rb')\n",
    "    return pickle.load(fr)"
   ]
  },
  {
   "cell_type": "code",
   "execution_count": 18,
   "metadata": {},
   "outputs": [
    {
     "name": "stdout",
     "output_type": "stream",
     "text": [
      "{'no surfacing': {0: 'no', 1: {'flippers': {0: 'no', 1: 'yes'}}}}\n"
     ]
    }
   ],
   "source": [
    "storeTree(mytree, 'myDecisionTree.txt')\n",
    "fr = grabTree('myDecisionTree.txt')\n",
    "# treePlotter.createPlot()\n",
    "print(fr)"
   ]
  },
  {
   "cell_type": "markdown",
   "metadata": {},
   "source": [
    "### 使用决策树对隐形眼镜数据集进行分类"
   ]
  },
  {
   "cell_type": "code",
   "execution_count": 30,
   "metadata": {},
   "outputs": [
    {
     "name": "stdout",
     "output_type": "stream",
     "text": [
      "['age', 'prescript', 'astigmatic', 'tearRate']\n"
     ]
    },
    {
     "data": {
      "image/png": "[encoded data removed]",
      "text/plain": [
       "<Figure size 432x288 with 1 Axes>"
      ]
     },
     "metadata": {},
     "output_type": "display_data"
    },
    {
     "name": "stdout",
     "output_type": "stream",
     "text": [
      "{'tearRate': {'normal': 'soft', 'reduced': 'no lenses'}}\n"
     ]
    }
   ],
   "source": [
    "fr = open('lenses.txt')\n",
    "lenses = [inst.strip().split('\\t') for inst in fr.readlines()]\n",
    "\n",
    "lensesLabels = ['age', 'prescript', 'astigmatic', 'tearRate']\n",
    "lensesLabelscopy = lensesLabels.copy()\n",
    "lensesTree = createTree(lenses, lensesLabelscopy)\n",
    "print(lensesLabels)\n",
    "treePlotter.createPlot(lensesTree)\n",
    "print(lensesTree)"
   ]
  },
  {
   "cell_type": "code",
   "execution_count": null,
   "metadata": {},
   "outputs": [],
   "source": []
  }
 ],
 "metadata": {
  "kernelspec": {
   "display_name": "Python 3",
   "language": "python",
   "name": "python3"
  },
  "language_info": {
   "codemirror_mode": {
    "name": "ipython",
    "version": 3
   },
   "file_extension": ".py",
   "mimetype": "text/x-python",
   "name": "python",
   "nbconvert_exporter": "python",
   "pygments_lexer": "ipython3",
   "version": "3.6.0"
  }
 },
 "nbformat": 4,
 "nbformat_minor": 2
}
