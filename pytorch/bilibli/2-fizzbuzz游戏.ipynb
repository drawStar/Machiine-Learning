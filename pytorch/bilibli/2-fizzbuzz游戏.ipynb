{
  "nbformat": 4,
  "nbformat_minor": 0,
  "metadata": {
    "colab": {
      "name": "Untitled0.ipynb",
      "provenance": [],
      "collapsed_sections": []
    },
    "kernelspec": {
      "name": "python3",
      "display_name": "Python 3"
    },
    "accelerator": "GPU"
  },
  "cells": [
    {
      "cell_type": "markdown",
      "metadata": {
        "id": "nCc94Qc5uO7E",
        "colab_type": "text"
      },
      "source": [
        "# **pytorch 实现 FizzBuzz**\n",
        "\n",
        "FizzBuzz规则\n",
        "\n",
        "从1开始数数，遇到3的倍数就说fizz，遇到5的倍数就说buzz，当遇到15的倍数就说fizzbuzz，其他情况正常\n",
        "\n",
        "crossEntropy Loss\n",
        "\n",
        "cuda加速\n",
        "\n",
        "mini-batch\n"
      ]
    },
    {
      "cell_type": "code",
      "metadata": {
        "id": "eMWudXPHBbuv",
        "colab_type": "code",
        "colab": {
          "base_uri": "https://localhost:8080/",
          "height": 269
        },
        "outputId": "61f0babd-f557-46fd-9b26-1c074833a8a2"
      },
      "source": [
        "def FizzBuzzEncode(i):\n",
        "    if i % 15 == 0:\n",
        "        return 3\n",
        "    elif i % 5 == 0:\n",
        "        return 2\n",
        "    elif i % 3 == 0:\n",
        "        return 1\n",
        "    else:\n",
        "        return 0\n",
        "\n",
        "def FizzBuzzDecode(i, prediction):\n",
        "    # [][prediction],prediction是前面列表的index\n",
        "    return [str(i),\"fizz\",\"buzz\",\"fizzbuzz\"][prediction]\n",
        "\n",
        "def FizzBuzzPrint(i):\n",
        "    print(FizzBuzzDecode(i,FizzBuzzEncode(i)))\n",
        "\n",
        "for i in range(1,16):\n",
        "    FizzBuzzPrint(i)\n"
      ],
      "execution_count": 48,
      "outputs": [
        {
          "output_type": "stream",
          "text": [
            "1\n",
            "2\n",
            "fizz\n",
            "4\n",
            "buzz\n",
            "fizz\n",
            "7\n",
            "8\n",
            "fizz\n",
            "buzz\n",
            "11\n",
            "fizz\n",
            "13\n",
            "14\n",
            "fizzbuzz\n"
          ],
          "name": "stdout"
        }
      ]
    },
    {
      "cell_type": "markdown",
      "metadata": {
        "id": "VGeQZEMBEIMV",
        "colab_type": "text"
      },
      "source": [
        "首先准备训练数据\n",
        "\n",
        "x是二进制编码，y总共有四个类别（0,1,2,3）\n",
        "\n",
        "\n",
        "做一个小的特征工程，将原数字转为二进制\n",
        "\n",
        "x 【923，10】 y【923】"
      ]
    },
    {
      "cell_type": "code",
      "metadata": {
        "id": "EKmtR_zwDFOv",
        "colab_type": "code",
        "colab": {
          "base_uri": "https://localhost:8080/",
          "height": 34
        },
        "outputId": "39bb73bf-d5dd-4546-bfe3-de1b70b5e3a2"
      },
      "source": [
        "import numpy as np\n",
        "import torch\n",
        "\n",
        "def BinaryEncode(n):\n",
        "    #将n转为二进制，n>0\n",
        "    binarylist = []\n",
        "    while(n>0):\n",
        "        binarylist.append(n%2)#除2求余\n",
        "        n = n//2\n",
        "    # 此项目中设定二进制长度为10，如3显示0000000011\n",
        "    binarylist += [0]*(10-len(binarylist)) \n",
        "    return binarylist[::-1]\n",
        "\n",
        "\n",
        "trainX = torch.Tensor([BinaryEncode(i) for i in range(101,2**10)])\n",
        "trainY = torch.LongTensor([FizzBuzzEncode(i) for i in range(101,2**10)])\n",
        "#注意类别用longtensor\n",
        "trainY.shape\n"
      ],
      "execution_count": 54,
      "outputs": [
        {
          "output_type": "execute_result",
          "data": {
            "text/plain": [
              "torch.Size([923])"
            ]
          },
          "metadata": {
            "tags": []
          },
          "execution_count": 54
        }
      ]
    },
    {
      "cell_type": "markdown",
      "metadata": {
        "id": "Vzm5_1V8K7ql",
        "colab_type": "text"
      },
      "source": [
        "## 使用Pytorch定义模型\n",
        "\n",
        "fizzbuzz本质上一个分类游戏，使用Cross entropy loss\n",
        "\n",
        "注意cross entropy loss的target不是one hot类型的\n",
        "\n",
        "input=torch.Tensor([[-0.7715, -0.6205,-0.2562]])\n",
        "\n",
        "entroy=torch.nn.CrossEntropyLoss()\n",
        "\n",
        "target = torch.tensor([0])\n",
        "\n",
        "output = entroy(input, target)\n"
      ]
    },
    {
      "cell_type": "code",
      "metadata": {
        "id": "Oij8U4U4LKFk",
        "colab_type": "code",
        "colab": {}
      },
      "source": [
        "NUM_HIDDEN = 100\n",
        "model = torch.nn.Sequential(\n",
        "    torch.nn.Linear(10, NUM_HIDDEN),\n",
        "    torch.nn.ReLU(),\n",
        "    torch.nn.Linear(NUM_HIDDEN,4) #4probabiility after softmax\n",
        ")\n",
        "if torch.cuda.is_available():\n",
        "    model = model.cuda()\n",
        "\n",
        "lossFn = torch.nn.CrossEntropyLoss()\n",
        "optimizer = torch.optim.SGD(model.parameters(),lr=0.05)\n"
      ],
      "execution_count": 0,
      "outputs": []
    },
    {
      "cell_type": "code",
      "metadata": {
        "id": "VifZ1lM5SWrs",
        "colab_type": "code",
        "colab": {
          "base_uri": "https://localhost:8080/",
          "height": 857
        },
        "outputId": "5bae1ba4-9145-47c1-9219-fd4449a37a40"
      },
      "source": [
        "BATCH_SIZE=128\n",
        "\n",
        "for epochIndex in range(10000):\n",
        "    #对每个batch\n",
        "    for start in range(0,len(trainX),BATCH_SIZE):#[start,end，margin]\n",
        "        end = start + BATCH_SIZE\n",
        "        batchX = trainX[start:end] #【【二进制】,【二进制】,...】一个batch的训练数据\n",
        "        batchY = trainY[start:end]\n",
        "\n",
        "        if torch.cuda.is_available():\n",
        "            batchX = batchX.cuda() #将数据传到GPU上\n",
        "            batchY = batchY.cuda()\n",
        "\n",
        "        y_pred = model(batchX)\n",
        "        loss = lossFn(y_pred,batchY)\n",
        "\n",
        "\n",
        "        optimizer.zero_grad()\n",
        "        loss.backward()\n",
        "        optimizer.step()\n",
        "    if epochIndex % 200 == 0:\n",
        "        print(\"epoch:\",epochIndex, loss.item())\n"
      ],
      "execution_count": 57,
      "outputs": [
        {
          "output_type": "stream",
          "text": [
            "epoch: 0 0.0038208167534321547\n",
            "epoch: 200 0.0034803373273462057\n",
            "epoch: 400 0.003206288442015648\n",
            "epoch: 600 0.0029756580479443073\n",
            "epoch: 800 0.0027484893798828125\n",
            "epoch: 1000 0.0025650307070463896\n",
            "epoch: 1200 0.0023951884359121323\n",
            "epoch: 1400 0.0022538502234965563\n",
            "epoch: 1600 0.0021014567464590073\n",
            "epoch: 1800 0.001979704247787595\n",
            "epoch: 2000 0.0018657224718481302\n",
            "epoch: 2200 0.0017675469862297177\n",
            "epoch: 2400 0.0016561438096687198\n",
            "epoch: 2600 0.0015852185897529125\n",
            "epoch: 2800 0.0015105671482160687\n",
            "epoch: 3000 0.0014337963657453656\n",
            "epoch: 3200 0.0013674983056262136\n",
            "epoch: 3400 0.0013079113559797406\n",
            "epoch: 3600 0.001247264677658677\n",
            "epoch: 3800 0.0011898676166310906\n",
            "epoch: 4000 0.0011505373986437917\n",
            "epoch: 4200 0.0011011053575202823\n",
            "epoch: 4400 0.0010530507424846292\n",
            "epoch: 4600 0.0010189657332375646\n",
            "epoch: 4800 0.000979617820121348\n",
            "epoch: 5000 0.0009453561506234109\n",
            "epoch: 5200 0.0009111121762543917\n",
            "epoch: 5400 0.0008814070024527609\n",
            "epoch: 5600 0.0008509423932991922\n",
            "epoch: 5800 0.0008260055910795927\n",
            "epoch: 6000 0.0007981724338606\n",
            "epoch: 6200 0.0007726881303824484\n",
            "epoch: 6400 0.0007498529157601297\n",
            "epoch: 6600 0.0007233443320728838\n",
            "epoch: 6800 0.0007062664953991771\n",
            "epoch: 7000 0.0006861686706542969\n",
            "epoch: 7200 0.0006646756664849818\n",
            "epoch: 7400 0.0006494168774224818\n",
            "epoch: 7600 0.0006295840139500797\n",
            "epoch: 7800 0.0006139720208011568\n",
            "epoch: 8000 0.0006020333967171609\n",
            "epoch: 8200 0.0005830659065395594\n",
            "epoch: 8400 0.0005719750188291073\n",
            "epoch: 8600 0.0005580584402196109\n",
            "epoch: 8800 0.0005438592634163797\n",
            "epoch: 9000 0.0005313731962814927\n",
            "epoch: 9200 0.0005190460942685604\n",
            "epoch: 9400 0.0005052178166806698\n",
            "epoch: 9600 0.0004964757827110589\n",
            "epoch: 9800 0.00048575576511211693\n"
          ],
          "name": "stdout"
        }
      ]
    },
    {
      "cell_type": "markdown",
      "metadata": {
        "id": "SoGGRtJCBxZ0",
        "colab_type": "text"
      },
      "source": [
        "\n",
        "### 测试\n",
        "\n",
        "在1到100上玩fizzbuzz\n",
        "\n",
        "\n"
      ]
    },
    {
      "cell_type": "code",
      "metadata": {
        "id": "zPu7Flfn_i2V",
        "colab_type": "code",
        "colab": {
          "base_uri": "https://localhost:8080/",
          "height": 1000
        },
        "outputId": "33b7a07a-50f9-4de7-eb8c-a2f8b94b958f"
      },
      "source": [
        "testX = torch.Tensor([BinaryEncode(i) for i in range(1,101)])\n",
        "if torch.cuda.is_available():\n",
        "    testX = testX.cuda()\n",
        "\n",
        "with torch.no_grad():\n",
        "    testY = model(testX)\n",
        "\n",
        "#testY是一个【100，4】的矩阵，【【4个概率】，【4个概率】...】\n",
        "\n",
        "\n",
        "predlist=torch.max(testY,dim=1)[1].data.tolist()#max返回两个值，value和argmax\n",
        "#.data 取出数据，tolist（）转成列表\n",
        "\n",
        "predictions = zip(range(1,101),predlist)\n",
        "\n",
        "for i,pred in predictions:\n",
        "    print(FizzBuzzDecode(i,pred))\n",
        "\n"
      ],
      "execution_count": 77,
      "outputs": [
        {
          "output_type": "stream",
          "text": [
            "1\n",
            "2\n",
            "fizz\n",
            "4\n",
            "buzz\n",
            "fizz\n",
            "7\n",
            "8\n",
            "fizz\n",
            "buzz\n",
            "11\n",
            "fizz\n",
            "13\n",
            "14\n",
            "fizzbuzz\n",
            "16\n",
            "17\n",
            "fizz\n",
            "19\n",
            "buzz\n",
            "fizz\n",
            "22\n",
            "23\n",
            "fizz\n",
            "buzz\n",
            "26\n",
            "fizz\n",
            "28\n",
            "29\n",
            "fizzbuzz\n",
            "31\n",
            "32\n",
            "fizz\n",
            "fizz\n",
            "buzz\n",
            "fizz\n",
            "37\n",
            "38\n",
            "fizz\n",
            "buzz\n",
            "41\n",
            "fizz\n",
            "43\n",
            "44\n",
            "fizzbuzz\n",
            "46\n",
            "47\n",
            "fizz\n",
            "49\n",
            "buzz\n",
            "fizz\n",
            "52\n",
            "53\n",
            "fizz\n",
            "buzz\n",
            "56\n",
            "fizz\n",
            "58\n",
            "59\n",
            "fizzbuzz\n",
            "61\n",
            "62\n",
            "fizz\n",
            "64\n",
            "buzz\n",
            "fizz\n",
            "67\n",
            "68\n",
            "fizz\n",
            "buzz\n",
            "71\n",
            "fizz\n",
            "73\n",
            "74\n",
            "fizzbuzz\n",
            "76\n",
            "77\n",
            "fizz\n",
            "79\n",
            "buzz\n",
            "fizz\n",
            "82\n",
            "83\n",
            "fizz\n",
            "buzz\n",
            "86\n",
            "fizz\n",
            "88\n",
            "89\n",
            "fizzbuzz\n",
            "91\n",
            "92\n",
            "93\n",
            "94\n",
            "buzz\n",
            "fizz\n",
            "97\n",
            "98\n",
            "fizz\n",
            "buzz\n"
          ],
          "name": "stdout"
        }
      ]
    },
    {
      "cell_type": "markdown",
      "metadata": {
        "id": "PRAzIzFDQFRp",
        "colab_type": "text"
      },
      "source": [
        "准确率相当高啊！"
      ]
    }
  ]
}